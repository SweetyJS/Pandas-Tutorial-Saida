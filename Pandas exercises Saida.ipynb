{
 "cells": [
  {
   "cell_type": "code",
   "execution_count": 5,
   "metadata": {},
   "outputs": [
    {
     "name": "stdout",
     "output_type": "stream",
     "text": [
      "    X   Y   Z\n",
      "0  13  84  86\n",
      "1  22  94  91\n",
      "2  45  89  97\n",
      "3  80  83  72\n",
      "4  86  85  83\n",
      "The number of cats collected by students\n",
      "   Karen  Jessica\n",
      "0      1        2\n",
      "1      3        4\n",
      "2      5        6\n"
     ]
    }
   ],
   "source": [
    "import pandas as pd\n",
    "df = pd.DataFrame({'X':[13,22,45,80,86], 'Y':[84,94,89,83,85],'Z':[86,91,97,72,83]});\n",
    "print(df)\n",
    "print(\"The number of cats collected by students\")\n",
    "my_data = pd.DataFrame({'Karen':[1,3,5], 'Jessica':[2,4,6]})\n",
    "print(my_data)\n"
   ]
  },
  {
   "cell_type": "code",
   "execution_count": null,
   "metadata": {},
   "outputs": [],
   "source": []
  },
  {
   "cell_type": "code",
   "execution_count": null,
   "metadata": {},
   "outputs": [],
   "source": []
  }
 ],
 "metadata": {
  "kernelspec": {
   "display_name": "Python 3",
   "language": "python",
   "name": "python3"
  },
  "language_info": {
   "codemirror_mode": {
    "name": "ipython",
    "version": 3
   },
   "file_extension": ".py",
   "mimetype": "text/x-python",
   "name": "python",
   "nbconvert_exporter": "python",
   "pygments_lexer": "ipython3",
   "version": "3.8.3"
  }
 },
 "nbformat": 4,
 "nbformat_minor": 4
}
